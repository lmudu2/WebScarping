{
 "cells": [
  {
   "cell_type": "code",
   "execution_count": 10,
   "metadata": {},
   "outputs": [],
   "source": [
    "from bs4 import BeautifulSoup as soup\n",
    "import requests"
   ]
  },
  {
   "cell_type": "code",
   "execution_count": 11,
   "metadata": {},
   "outputs": [],
   "source": [
    "url =\"https://www.amazon.com/s?rh=n%3A1040658%2Cp_72%3A4-&pf_rd_i=1040658&pf_rd_p=b678076d-82da-57d2-bce0-8e7e0e132683&pf_rd_r=SP8BVW59C8B5ZTEZN367&pf_rd_s=merchandised-search-12&pf_rd_t=BROWSE&ref=Oct_s9_apbd_otopr_hd_bw_b4Mio_S\""
   ]
  },
  {
   "cell_type": "code",
   "execution_count": 12,
   "metadata": {},
   "outputs": [],
   "source": [
    "brower_agent = {'User-Agent':\"Mozilla/5.0 (Windows NT 10.0; Win64; x64) AppleWebKit/537.36 (KHTML, like Gecko) Chrome/84.0.4147.89 Safari/537.36\"}"
   ]
  },
  {
   "cell_type": "code",
   "execution_count": 13,
   "metadata": {},
   "outputs": [],
   "source": [
    "page= requests.get(url,headers=brower_agent)"
   ]
  },
  {
   "cell_type": "code",
   "execution_count": 14,
   "metadata": {},
   "outputs": [],
   "source": [
    "page_soup=soup(page.content,'html.parser')"
   ]
  },
  {
   "cell_type": "code",
   "execution_count": 15,
   "metadata": {},
   "outputs": [],
   "source": [
    "##print(page_soup.prettify())"
   ]
  },
  {
   "cell_type": "code",
   "execution_count": 16,
   "metadata": {},
   "outputs": [],
   "source": [
    "containers=page_soup.find_all(\"div\",{\"class\":\"a-section a-spacing-medium a-text-center\"})"
   ]
  },
  {
   "cell_type": "code",
   "execution_count": 17,
   "metadata": {},
   "outputs": [
    {
     "data": {
      "text/plain": [
       "48"
      ]
     },
     "execution_count": 17,
     "metadata": {},
     "output_type": "execute_result"
    }
   ],
   "source": [
    "len(containers)"
   ]
  },
  {
   "cell_type": "code",
   "execution_count": 18,
   "metadata": {},
   "outputs": [],
   "source": [
    "container=containers[0]"
   ]
  },
  {
   "cell_type": "code",
   "execution_count": 19,
   "metadata": {},
   "outputs": [
    {
     "data": {
      "text/plain": [
       "'4.7'"
      ]
     },
     "execution_count": 19,
     "metadata": {},
     "output_type": "execute_result"
    }
   ],
   "source": [
    "container.i.text.split()[0]"
   ]
  },
  {
   "cell_type": "code",
   "execution_count": 20,
   "metadata": {},
   "outputs": [],
   "source": [
    "price=container.find_all(\"div\",{\"class\":\"a-row a-size-base a-color-base\"})"
   ]
  },
  {
   "cell_type": "code",
   "execution_count": 21,
   "metadata": {},
   "outputs": [],
   "source": [
    "price_container=price[0]"
   ]
  },
  {
   "cell_type": "code",
   "execution_count": 22,
   "metadata": {},
   "outputs": [
    {
     "data": {
      "text/plain": [
       "'$18.99'"
      ]
     },
     "execution_count": 22,
     "metadata": {},
     "output_type": "execute_result"
    }
   ],
   "source": [
    "price_container.div.a.span.text[0:6]"
   ]
  },
  {
   "cell_type": "code",
   "execution_count": 27,
   "metadata": {},
   "outputs": [
    {
     "name": "stdout",
     "output_type": "stream",
     "text": [
      "Under Armour\n",
      "Men's Tech Graphic Shorts\n",
      "4.7\n",
      "Under Armour\n",
      "Adult Resistor 3.0 No Show Socks, 6-Pairs\n",
      "4.6\n",
      "Hanes\n",
      "Men's 5-Pack Sports-Inspired Cool Dri Boxer Brief\n",
      "4.5\n",
      "Hanes\n",
      "Men's 6-Pack ComfortSoft Moisture Wicking Tagless Tanks\n",
      "4.4\n",
      "Fruit of the Loom\n",
      "Men's Coolzone Boxer Briefs (Assorted colors)\n",
      "4.5\n",
      "Under Armour\n",
      "Men's Raid 10-inch Workout Gym Shorts\n",
      "4.6\n",
      "Under Armour\n",
      "Adult Resistor 3.0 Low Cut Socks, 6-Pairs\n",
      "4.5\n",
      "COOVAN\n",
      "10 Pairs Mens Cushion Ankle Socks Men 10 Pack Low Cut Comfort Breathable Casual Socks\n",
      "4.6\n",
      "Dickies\n",
      "Men's Dri-tech Moisture Control Crew Socks Multipack\n",
      "4.6\n",
      "Gildan\n",
      "Men's A-Shirts Tanks Multipack\n",
      "4.5\n",
      "Fruit of the Loom\n",
      "Men's Stay Tucked Crew T-Shirt\n",
      "4.6\n",
      "Hanes\n",
      "Men's Tagless Tartan Boxer with Exposed Waistband\n",
      "4.5\n",
      "Hanes\n",
      "Men's Tagless Boxer with ComfortFlex Waistband Brief\n",
      "4.5\n",
      "Hanes\n",
      "Men's 5-Pack Tagless, Tartan Boxer with Exposed Waistband, Assorted, Large\n",
      "4.6\n",
      "Amazon Essentials\n",
      "Men's 10-Pack Cotton Half Cushioned Crew Socks\n",
      "4.5\n",
      "Liberty Imports\n",
      "5 Pack Men’s Active Quick Dry Crew Neck T Shirts | Athletic Running Gym Workout Short Sleeve Tee Tops Bulk\n",
      "4.5\n",
      "Iseasoo\n",
      "8 Pack Copper Knee High Compression Socks For Men & Women-Best For Running,Athletic,Medical,Pregnancy and Travel -15-20mmHg\n",
      "4.6\n",
      "Hanes\n",
      "Men's FreshIQ X-Temp Comfort Cool Crew Socks, 6-Pack\n",
      "4.5\n",
      "Hanes\n",
      "Men's ComfortBlend Max Cushion Ankle Socks, 6 Pack\n",
      "4.6\n",
      "PUMA\n",
      "Men's No show Sport Socks, Moisture Control, Arch Support (8 Pair)\n",
      "4.7\n",
      "adidas\n",
      "Men's Athletic Cushioned Crew Socks (6-Pair)\n",
      "4.5\n",
      "Fruit of the Loom\n",
      "Men's Tag-Free Boxer Shorts (Knit & Woven)\n",
      "4.5\n",
      "Hanes\n",
      "Men's 5-Pack X-Temp Comfort Cool Assorted Boxer Briefs\n",
      "4.1\n",
      "Dickies\n",
      "Men's Dri-tech Moisture Control Quarter Socks Multipack\n",
      "4.7\n",
      "Calvin Klein\n",
      "Men's Cotton Stretch Multipack Boxer Briefs\n",
      "4.4\n",
      "Fruit of the Loom\n",
      "Mens 12 Pair Half Cushion Ankle Socks\n",
      "4.5\n",
      "Hanes\n",
      "Men's ComfortSoft Short Sleeve T-Shirt (4 Pack )\n",
      "4.3\n",
      "Gildan\n",
      "Men's Assorted V-Neck T-Shirts Multipack\n",
      "4.4\n",
      "CS CELERSPORT\n",
      "CelerSport Ankle Athletic Running Socks Low Cut Sports Tab Socks for Men and Women (6 Pairs)\n",
      "4.8\n",
      "Hanes\n",
      "Men's Long Sleeve Cool Dri T-Shirt UPF 50+ (Pack of 2)\n",
      "4.5\n",
      "THE COMFY\n",
      "THE COMFY Original | Oversized Microfiber & Sherpa Wearable Blanket, Seen On Shark Tank, One Size Fits All\n",
      "4.8\n",
      "Hanes\n",
      "Men's 7-Pack ComfortSoft Briefs\n",
      "4.5\n",
      "Fruit of the Loom\n",
      "Men's 10 Pack Everyday Work Crew Socks\n",
      "4.4\n",
      "Hanes\n",
      "Men's 5-Pack ComfortBlend Crewneck T-Shirt with FreshIQ\n",
      "4.3\n",
      "Hanes\n",
      "Men's 5-Pack Cool Comfort Lightweight Breathable Mesh Brief, Assorted, Large\n",
      "4.5\n",
      "Amazon Essentials\n",
      "Men's 6-Pack Performance Cotton Cushioned Athletic Ankle Socks\n",
      "4.4\n",
      "Saucony\n",
      "Men's Multi-pack Mesh Ventilating Comfort Fit Performance No-show Socks\n",
      "4.5\n",
      "Hanes\n",
      "Men's 5-Pack Printed Woven Exposed Waistband Boxers (Assorted)\n",
      "4.4\n",
      "Cooplus\n",
      "Mens Ankle Socks Athletic Cushioned Breathable Low Cut Tab With Arch Support-6Pairs\n",
      "4.7\n",
      "Hanes\n",
      "Men's Tagless Exposed Waistband Boxer Briefs\n",
      "4.5\n",
      "Calvin Klein\n",
      "Men's Cotton Classics Multipack Boxer Briefs\n",
      "4.5\n",
      "Under Armour\n",
      "Mens Tech 2.0 Short Sleeve T-Shirt\n",
      "4.6\n",
      "Gildan\n",
      "Men's Regular Leg Boxer Brief Multipack\n",
      "4.4\n",
      "Calvin Klein\n",
      "Men's Cotton Classics Megapack Boxer Briefs\n",
      "4.5\n",
      "Nike\n",
      "Dri-Fit Training Everyday PLUS MAX Cushioned Quarter Cut Ankle Socks 6 PAIR White Black Swoosh Logo) LARGE 8-12\n",
      "4.4\n",
      "Champion\n",
      "Men's Boxer Briefs All Day Comfort No Ride Up Double Dry X-Temp 5 Pack\n",
      "4.6\n",
      "Fruit of the Loom\n",
      "Men's Assorted A-Shirts\n",
      "4.5\n",
      "Champion\n",
      "Men's Double Dry Moisture Wicking Logo 6-Pack Crew Socks\n",
      "4.7\n"
     ]
    }
   ],
   "source": [
    "filename ='Toprating.csv'\n",
    "f=open(filename,'w')\n",
    "for container in containers:\n",
    "    Brand=container.h5.span.text\n",
    "    ProductName=container.h2.a.span.text\n",
    "    Rating= container.i.text.split()[0]\n",
    "    print(Brand)\n",
    "    print(ProductName)\n",
    "    print(Rating)\n",
    "    \n",
    "    f.write(Brand + ',' + ProductName.replace(',','|') + ',' + Rating +'\\n')\n",
    "    "
   ]
  },
  {
   "cell_type": "code",
   "execution_count": null,
   "metadata": {},
   "outputs": [],
   "source": [
    "len(Brand)"
   ]
  },
  {
   "cell_type": "code",
   "execution_count": null,
   "metadata": {},
   "outputs": [],
   "source": []
  }
 ],
 "metadata": {
  "kernelspec": {
   "display_name": "Python 3",
   "language": "python",
   "name": "python3"
  },
  "language_info": {
   "codemirror_mode": {
    "name": "ipython",
    "version": 3
   },
   "file_extension": ".py",
   "mimetype": "text/x-python",
   "name": "python",
   "nbconvert_exporter": "python",
   "pygments_lexer": "ipython3",
   "version": "3.7.4"
  }
 },
 "nbformat": 4,
 "nbformat_minor": 4
}
